{
  "cells": [
    {
      "cell_type": "code",
      "source": [
        "from google.colab import drive\n",
        "drive.mount('/content/drive')"
      ],
      "metadata": {
        "colab": {
          "base_uri": "https://localhost:8080/",
          "height": 0
        },
        "id": "dQ0l7OIx7sLu",
        "outputId": "7b32a642-6817-4146-aabd-bbf8f44ab0ab"
      },
      "execution_count": 2,
      "outputs": [
        {
          "output_type": "stream",
          "name": "stdout",
          "text": [
            "Drive already mounted at /content/drive; to attempt to forcibly remount, call drive.mount(\"/content/drive\", force_remount=True).\n"
          ]
        }
      ]
    },
    {
      "cell_type": "markdown",
      "metadata": {
        "id": "WJlVamA_6vdG"
      },
      "source": [
        "## **Import libraries**"
      ]
    },
    {
      "cell_type": "code",
      "execution_count": 3,
      "metadata": {
        "_cell_guid": "b1076dfc-b9ad-4769-8c92-a6c4dae69d19",
        "_uuid": "8f2839f25d086af736a60e9eeb907d3b93b6e0e5",
        "colab": {
          "base_uri": "https://localhost:8080/",
          "height": 0
        },
        "id": "QI-7g44x6vdH",
        "outputId": "86907274-f776-4a2e-bda4-05239bd15575"
      },
      "outputs": [
        {
          "output_type": "stream",
          "name": "stderr",
          "text": [
            "[nltk_data] Downloading package punkt to /root/nltk_data...\n",
            "[nltk_data]   Unzipping tokenizers/punkt.zip.\n"
          ]
        }
      ],
      "source": [
        "import numpy as np\n",
        "import pandas as pd\n",
        "import nltk\n",
        "from nltk.tokenize import word_tokenize, sent_tokenize\n",
        "nltk.download('punkt')\n",
        "\n",
        "import matplotlib.pyplot as plt\n",
        "import seaborn as sns\n",
        "import tensorflow as tf\n",
        "from nltk import FreqDist\n",
        "\n",
        "from keras import regularizers\n",
        "from imblearn.over_sampling import RandomOverSampler\n",
        "\n",
        "from sklearn.model_selection import train_test_split\n",
        "from sklearn import metrics\n",
        "from sklearn.metrics import confusion_matrix, classification_report\n",
        "from sklearn.metrics import accuracy_score, precision_score, recall_score, f1_score\n",
        "from sklearn.metrics import roc_curve, auc"
      ]
    },
    {
      "cell_type": "markdown",
      "metadata": {
        "id": "BJC7o4nU6vdJ"
      },
      "source": [
        "## **Data Understanding**"
      ]
    },
    {
      "cell_type": "code",
      "execution_count": 4,
      "metadata": {
        "id": "eq8UZpAv6vdJ",
        "outputId": "e36e6feb-4510-49a9-ec71-0af49a380c66",
        "colab": {
          "base_uri": "https://localhost:8080/",
          "height": 206
        }
      },
      "outputs": [
        {
          "output_type": "execute_result",
          "data": {
            "text/plain": [
              "         id  prompt_id                                               text  \\\n",
              "0  0059830c          0  Cars. Cars have been around since they became ...   \n",
              "1  005db917          0  Transportation is a large necessity in most co...   \n",
              "2  008f63e3          0  \"America's love affair with it's vehicles seem...   \n",
              "3  00940276          0  How often do you ride in a car? Do you drive a...   \n",
              "4  00c39458          0  Cars are a wonderful thing. They are perhaps o...   \n",
              "\n",
              "   generated  \n",
              "0          0  \n",
              "1          0  \n",
              "2          0  \n",
              "3          0  \n",
              "4          0  "
            ],
            "text/html": [
              "\n",
              "  <div id=\"df-8f1b1c58-59a6-401b-abbc-19f6c7bbab10\" class=\"colab-df-container\">\n",
              "    <div>\n",
              "<style scoped>\n",
              "    .dataframe tbody tr th:only-of-type {\n",
              "        vertical-align: middle;\n",
              "    }\n",
              "\n",
              "    .dataframe tbody tr th {\n",
              "        vertical-align: top;\n",
              "    }\n",
              "\n",
              "    .dataframe thead th {\n",
              "        text-align: right;\n",
              "    }\n",
              "</style>\n",
              "<table border=\"1\" class=\"dataframe\">\n",
              "  <thead>\n",
              "    <tr style=\"text-align: right;\">\n",
              "      <th></th>\n",
              "      <th>id</th>\n",
              "      <th>prompt_id</th>\n",
              "      <th>text</th>\n",
              "      <th>generated</th>\n",
              "    </tr>\n",
              "  </thead>\n",
              "  <tbody>\n",
              "    <tr>\n",
              "      <th>0</th>\n",
              "      <td>0059830c</td>\n",
              "      <td>0</td>\n",
              "      <td>Cars. Cars have been around since they became ...</td>\n",
              "      <td>0</td>\n",
              "    </tr>\n",
              "    <tr>\n",
              "      <th>1</th>\n",
              "      <td>005db917</td>\n",
              "      <td>0</td>\n",
              "      <td>Transportation is a large necessity in most co...</td>\n",
              "      <td>0</td>\n",
              "    </tr>\n",
              "    <tr>\n",
              "      <th>2</th>\n",
              "      <td>008f63e3</td>\n",
              "      <td>0</td>\n",
              "      <td>\"America's love affair with it's vehicles seem...</td>\n",
              "      <td>0</td>\n",
              "    </tr>\n",
              "    <tr>\n",
              "      <th>3</th>\n",
              "      <td>00940276</td>\n",
              "      <td>0</td>\n",
              "      <td>How often do you ride in a car? Do you drive a...</td>\n",
              "      <td>0</td>\n",
              "    </tr>\n",
              "    <tr>\n",
              "      <th>4</th>\n",
              "      <td>00c39458</td>\n",
              "      <td>0</td>\n",
              "      <td>Cars are a wonderful thing. They are perhaps o...</td>\n",
              "      <td>0</td>\n",
              "    </tr>\n",
              "  </tbody>\n",
              "</table>\n",
              "</div>\n",
              "    <div class=\"colab-df-buttons\">\n",
              "\n",
              "  <div class=\"colab-df-container\">\n",
              "    <button class=\"colab-df-convert\" onclick=\"convertToInteractive('df-8f1b1c58-59a6-401b-abbc-19f6c7bbab10')\"\n",
              "            title=\"Convert this dataframe to an interactive table.\"\n",
              "            style=\"display:none;\">\n",
              "\n",
              "  <svg xmlns=\"http://www.w3.org/2000/svg\" height=\"24px\" viewBox=\"0 -960 960 960\">\n",
              "    <path d=\"M120-120v-720h720v720H120Zm60-500h600v-160H180v160Zm220 220h160v-160H400v160Zm0 220h160v-160H400v160ZM180-400h160v-160H180v160Zm440 0h160v-160H620v160ZM180-180h160v-160H180v160Zm440 0h160v-160H620v160Z\"/>\n",
              "  </svg>\n",
              "    </button>\n",
              "\n",
              "  <style>\n",
              "    .colab-df-container {\n",
              "      display:flex;\n",
              "      gap: 12px;\n",
              "    }\n",
              "\n",
              "    .colab-df-convert {\n",
              "      background-color: #E8F0FE;\n",
              "      border: none;\n",
              "      border-radius: 50%;\n",
              "      cursor: pointer;\n",
              "      display: none;\n",
              "      fill: #1967D2;\n",
              "      height: 32px;\n",
              "      padding: 0 0 0 0;\n",
              "      width: 32px;\n",
              "    }\n",
              "\n",
              "    .colab-df-convert:hover {\n",
              "      background-color: #E2EBFA;\n",
              "      box-shadow: 0px 1px 2px rgba(60, 64, 67, 0.3), 0px 1px 3px 1px rgba(60, 64, 67, 0.15);\n",
              "      fill: #174EA6;\n",
              "    }\n",
              "\n",
              "    .colab-df-buttons div {\n",
              "      margin-bottom: 4px;\n",
              "    }\n",
              "\n",
              "    [theme=dark] .colab-df-convert {\n",
              "      background-color: #3B4455;\n",
              "      fill: #D2E3FC;\n",
              "    }\n",
              "\n",
              "    [theme=dark] .colab-df-convert:hover {\n",
              "      background-color: #434B5C;\n",
              "      box-shadow: 0px 1px 3px 1px rgba(0, 0, 0, 0.15);\n",
              "      filter: drop-shadow(0px 1px 2px rgba(0, 0, 0, 0.3));\n",
              "      fill: #FFFFFF;\n",
              "    }\n",
              "  </style>\n",
              "\n",
              "    <script>\n",
              "      const buttonEl =\n",
              "        document.querySelector('#df-8f1b1c58-59a6-401b-abbc-19f6c7bbab10 button.colab-df-convert');\n",
              "      buttonEl.style.display =\n",
              "        google.colab.kernel.accessAllowed ? 'block' : 'none';\n",
              "\n",
              "      async function convertToInteractive(key) {\n",
              "        const element = document.querySelector('#df-8f1b1c58-59a6-401b-abbc-19f6c7bbab10');\n",
              "        const dataTable =\n",
              "          await google.colab.kernel.invokeFunction('convertToInteractive',\n",
              "                                                    [key], {});\n",
              "        if (!dataTable) return;\n",
              "\n",
              "        const docLinkHtml = 'Like what you see? Visit the ' +\n",
              "          '<a target=\"_blank\" href=https://colab.research.google.com/notebooks/data_table.ipynb>data table notebook</a>'\n",
              "          + ' to learn more about interactive tables.';\n",
              "        element.innerHTML = '';\n",
              "        dataTable['output_type'] = 'display_data';\n",
              "        await google.colab.output.renderOutput(dataTable, element);\n",
              "        const docLink = document.createElement('div');\n",
              "        docLink.innerHTML = docLinkHtml;\n",
              "        element.appendChild(docLink);\n",
              "      }\n",
              "    </script>\n",
              "  </div>\n",
              "\n",
              "\n",
              "<div id=\"df-74c7f5ec-2f38-4014-8096-52123a5a4bcc\">\n",
              "  <button class=\"colab-df-quickchart\" onclick=\"quickchart('df-74c7f5ec-2f38-4014-8096-52123a5a4bcc')\"\n",
              "            title=\"Suggest charts\"\n",
              "            style=\"display:none;\">\n",
              "\n",
              "<svg xmlns=\"http://www.w3.org/2000/svg\" height=\"24px\"viewBox=\"0 0 24 24\"\n",
              "     width=\"24px\">\n",
              "    <g>\n",
              "        <path d=\"M19 3H5c-1.1 0-2 .9-2 2v14c0 1.1.9 2 2 2h14c1.1 0 2-.9 2-2V5c0-1.1-.9-2-2-2zM9 17H7v-7h2v7zm4 0h-2V7h2v10zm4 0h-2v-4h2v4z\"/>\n",
              "    </g>\n",
              "</svg>\n",
              "  </button>\n",
              "\n",
              "<style>\n",
              "  .colab-df-quickchart {\n",
              "      --bg-color: #E8F0FE;\n",
              "      --fill-color: #1967D2;\n",
              "      --hover-bg-color: #E2EBFA;\n",
              "      --hover-fill-color: #174EA6;\n",
              "      --disabled-fill-color: #AAA;\n",
              "      --disabled-bg-color: #DDD;\n",
              "  }\n",
              "\n",
              "  [theme=dark] .colab-df-quickchart {\n",
              "      --bg-color: #3B4455;\n",
              "      --fill-color: #D2E3FC;\n",
              "      --hover-bg-color: #434B5C;\n",
              "      --hover-fill-color: #FFFFFF;\n",
              "      --disabled-bg-color: #3B4455;\n",
              "      --disabled-fill-color: #666;\n",
              "  }\n",
              "\n",
              "  .colab-df-quickchart {\n",
              "    background-color: var(--bg-color);\n",
              "    border: none;\n",
              "    border-radius: 50%;\n",
              "    cursor: pointer;\n",
              "    display: none;\n",
              "    fill: var(--fill-color);\n",
              "    height: 32px;\n",
              "    padding: 0;\n",
              "    width: 32px;\n",
              "  }\n",
              "\n",
              "  .colab-df-quickchart:hover {\n",
              "    background-color: var(--hover-bg-color);\n",
              "    box-shadow: 0 1px 2px rgba(60, 64, 67, 0.3), 0 1px 3px 1px rgba(60, 64, 67, 0.15);\n",
              "    fill: var(--button-hover-fill-color);\n",
              "  }\n",
              "\n",
              "  .colab-df-quickchart-complete:disabled,\n",
              "  .colab-df-quickchart-complete:disabled:hover {\n",
              "    background-color: var(--disabled-bg-color);\n",
              "    fill: var(--disabled-fill-color);\n",
              "    box-shadow: none;\n",
              "  }\n",
              "\n",
              "  .colab-df-spinner {\n",
              "    border: 2px solid var(--fill-color);\n",
              "    border-color: transparent;\n",
              "    border-bottom-color: var(--fill-color);\n",
              "    animation:\n",
              "      spin 1s steps(1) infinite;\n",
              "  }\n",
              "\n",
              "  @keyframes spin {\n",
              "    0% {\n",
              "      border-color: transparent;\n",
              "      border-bottom-color: var(--fill-color);\n",
              "      border-left-color: var(--fill-color);\n",
              "    }\n",
              "    20% {\n",
              "      border-color: transparent;\n",
              "      border-left-color: var(--fill-color);\n",
              "      border-top-color: var(--fill-color);\n",
              "    }\n",
              "    30% {\n",
              "      border-color: transparent;\n",
              "      border-left-color: var(--fill-color);\n",
              "      border-top-color: var(--fill-color);\n",
              "      border-right-color: var(--fill-color);\n",
              "    }\n",
              "    40% {\n",
              "      border-color: transparent;\n",
              "      border-right-color: var(--fill-color);\n",
              "      border-top-color: var(--fill-color);\n",
              "    }\n",
              "    60% {\n",
              "      border-color: transparent;\n",
              "      border-right-color: var(--fill-color);\n",
              "    }\n",
              "    80% {\n",
              "      border-color: transparent;\n",
              "      border-right-color: var(--fill-color);\n",
              "      border-bottom-color: var(--fill-color);\n",
              "    }\n",
              "    90% {\n",
              "      border-color: transparent;\n",
              "      border-bottom-color: var(--fill-color);\n",
              "    }\n",
              "  }\n",
              "</style>\n",
              "\n",
              "  <script>\n",
              "    async function quickchart(key) {\n",
              "      const quickchartButtonEl =\n",
              "        document.querySelector('#' + key + ' button');\n",
              "      quickchartButtonEl.disabled = true;  // To prevent multiple clicks.\n",
              "      quickchartButtonEl.classList.add('colab-df-spinner');\n",
              "      try {\n",
              "        const charts = await google.colab.kernel.invokeFunction(\n",
              "            'suggestCharts', [key], {});\n",
              "      } catch (error) {\n",
              "        console.error('Error during call to suggestCharts:', error);\n",
              "      }\n",
              "      quickchartButtonEl.classList.remove('colab-df-spinner');\n",
              "      quickchartButtonEl.classList.add('colab-df-quickchart-complete');\n",
              "    }\n",
              "    (() => {\n",
              "      let quickchartButtonEl =\n",
              "        document.querySelector('#df-74c7f5ec-2f38-4014-8096-52123a5a4bcc button');\n",
              "      quickchartButtonEl.style.display =\n",
              "        google.colab.kernel.accessAllowed ? 'block' : 'none';\n",
              "    })();\n",
              "  </script>\n",
              "</div>\n",
              "\n",
              "    </div>\n",
              "  </div>\n"
            ],
            "application/vnd.google.colaboratory.intrinsic+json": {
              "type": "dataframe",
              "variable_name": "df",
              "summary": "{\n  \"name\": \"df\",\n  \"rows\": 1378,\n  \"fields\": [\n    {\n      \"column\": \"id\",\n      \"properties\": {\n        \"dtype\": \"string\",\n        \"num_unique_values\": 1378,\n        \"samples\": [\n          \"70d7c567\",\n          \"81977e6c\",\n          \"e43869b8\"\n        ],\n        \"semantic_type\": \"\",\n        \"description\": \"\"\n      }\n    },\n    {\n      \"column\": \"prompt_id\",\n      \"properties\": {\n        \"dtype\": \"number\",\n        \"std\": 0,\n        \"min\": 0,\n        \"max\": 1,\n        \"num_unique_values\": 2,\n        \"samples\": [\n          1,\n          0\n        ],\n        \"semantic_type\": \"\",\n        \"description\": \"\"\n      }\n    },\n    {\n      \"column\": \"text\",\n      \"properties\": {\n        \"dtype\": \"string\",\n        \"num_unique_values\": 1378,\n        \"samples\": [\n          \"Can you imagine living in a place where there is no driving? It is an amazing thing to think if every person doesn't drive in one big city that it saves so much pollution going in to the air. Another thing to think about is if everyone in a city didn't drive and walked everywhere, more people would stay healthier by staying in shape. Some people think that owning a car is more stressful than just walking everywhere. If you don't own a car you don't have to pay for insurance, don't have to pay for gas, and don't have to pay for repairs when something goes wrong in a vehicle. To me it sounds like there is a lot of advantages in limiting car use.\\n\\nOne solid reason why not using cars as much is the pollution going in the air. In Paris, France motorists with even numbered license plates were ordered to leave their cars at their house or else they would be fined. The next day odd numbered license plates motorists had to leave their vehicles at home. It was a hardship at first to get people to follow these new rules, but after about five days everything started to cool down. The pollution had dropped 60 percent in Paris which is exactly what the city was looking for. Limiting the car usage didn't just save pollution from going in the air, but also there wasn't as much traffic as there usually was. It also made Paris a safer place to be outside and not damage the citizens lungs. The capital city of France also made transportation free MondayFriday to help the cause. Soon enough people that had both license plates could drive on the same day.\\n\\nIn Bogota, Colombia they do a car free day that is becoming popular in that part of the world. It is awesome to think there are 7 million people in that city and none of them are using a car. People that violated this goal on this day were charged a 25 fine. People from other countries came to see how this day worked and they loved it. The mayor of Asuncion, Paraguay said \\\"These people are generating a revolutionary change, and this is crossing borders.\\\" You can just imagine all the benefits of everyone not using a car in a city for a whole day. Restaurants and parks would be visited and used more and everyone would be getting more exercise. All in all this idea was genius.\\n\\nAs you can see limiting car usage can help out the area big time that it is taking place. It is better breathing air, businesses like restaurants and parks would be used more and grow steadily, and the city would be taken care of better.\",\n          \"Limiting car usage could have many advantages on our planet. Many cities, such as Vauban in Germany, have given up on using cars to help the world around them. \\\"vaughn's streets are completely carfree,except the main thoroughfare, where the tram to downtown Freiburg runs, and a few streets on one edge of the community.\\\" There is a movement going on called, \\\"smart planning\\\" and Vauban is just one example of a growing trend in Europe of limiting auto use. The article says that passenger cars are responsible for twelve percent of greenhouse gas emissions in Europe. It seems that the people in Europe are realizing that so much car usage is harming their environment, and they are trying to set a trend for other countries like the United States to follow to limit using cars.\\n\\nHow much people use their cars is very important. Polluted air is a very widespread problem in many regions of the world. Paris had days of nearrecord pollution, and decided to enforce a partial driving ban to try to help clear the air of the city. The article says that almost 4,000 drivers were fined, and twentyseven had their cars impounded for their reaction to the fine. \\\"Congestion was down 60 percent in the capital of France, after five days of intensifying smog.\\\" The driving ban helped clear the smog, because it reduced car emissions. Paris has more smog than many other European capitals, which is why reducing how much citizens drive their cars is a good idea.\\n\\nSome cities have days that are completely car free. Bogota, Colombia is one of them. They have been having a Day Without Cars for three straight years. Cars are banned for the day and buses and taxis are the only exception. The city holds about 7 million people, and had a large turnout. \\\"It's a good opportunity to take away stress and lower air pollution,\\\" said businessman Carlos Arturo Plaza. The mayor of Asuncion, Paraguay even said that, \\\"These people are generating a revolutionary change, and this is crossing borders.\\\" The Day Without Cars has even helped stores and sports center come up throughout the city. Instead of shopping centers along a highway, those stores are now in the city and easy to get to without having to use a car.\\n\\nResearchers have been studying America's ways of car usage and driving. America is home to the first cars like the Model T, or \\\"Mustang Sally.\\\" Vehichles have always been a huge part of culture, but it seems now that that might not be the case anymore. \\\"As of April 2013, the number of miles driven per person was nearly 9 percent below the peak and equal to where the country was in January 1995.\\\" Researchers are actually hoping that the pattern continues because it will have beneficial implications for carbon emissions on the environment. Transportation is the second largest source, behind power plants, of emissions. Many changes have now happened in America, which are making using cars not as important. \\\"With all these changes, people who stopped car commuting as a result of the recession may find less reason to resume the habit..\\\" The article says. If we could slow down the usage of cars and emission, maybe we could help the planet become a better place.\\n\\nSince the percentage of car usage has gone down in America, so has the percentage of getting a license. There has been a large drop in 1639 year olds getting a license, Mr. Sivak's research has found. Older people are also likely to retain their licenses as they age. Mr. Sivak and another man both have children of about the same age, 19 and 21, and live in busy cities where a car could be useful. Neither one of them has their licenses, even though they are interested, but they don't really see the need for one when they can use public transportation or carpool with their friends. The article says that a study last year has also found that driving by young people decreased 23 percent between 2001 and 2009. Whether or not this changes as these young people grow older, these decreases in driving are proving that cars might just not be as important as they used to be.\\n\\nOur planet is just continuing to get worse from emissions from cars. Some countries are starting to realize this and are working hard to limit car usage and have citizens rely just on public transportation, walking, or riding a bike. Bill Ford proposed partnering with the telecommunications industry to create cities in which, \\\"pedestrian, bicycle, private cars, commercial, and public transportation traffic are woven into a connected network to save time, conserve resources, lower emissions, and improve safety.\\\" Citizens all over the world can work together to reduce car usage and better improve our planet.\"\n        ],\n        \"semantic_type\": \"\",\n        \"description\": \"\"\n      }\n    },\n    {\n      \"column\": \"generated\",\n      \"properties\": {\n        \"dtype\": \"number\",\n        \"std\": 0,\n        \"min\": 0,\n        \"max\": 1,\n        \"num_unique_values\": 2,\n        \"samples\": [\n          1,\n          0\n        ],\n        \"semantic_type\": \"\",\n        \"description\": \"\"\n      }\n    }\n  ]\n}"
            }
          },
          "metadata": {},
          "execution_count": 4
        }
      ],
      "source": [
        "df = pd.read_csv(\"/content/drive/MyDrive/Colab Notebooks/train_essays.csv\")\n",
        "df.head()"
      ]
    },
    {
      "cell_type": "code",
      "execution_count": 5,
      "metadata": {
        "id": "wd4MtX716vdK",
        "outputId": "0d27d19d-4ee2-4c48-fc2e-c7ac591d3924",
        "colab": {
          "base_uri": "https://localhost:8080/",
          "height": 0
        }
      },
      "outputs": [
        {
          "output_type": "stream",
          "name": "stdout",
          "text": [
            "<class 'pandas.core.frame.DataFrame'>\n",
            "RangeIndex: 1378 entries, 0 to 1377\n",
            "Data columns (total 4 columns):\n",
            " #   Column     Non-Null Count  Dtype \n",
            "---  ------     --------------  ----- \n",
            " 0   id         1378 non-null   object\n",
            " 1   prompt_id  1378 non-null   int64 \n",
            " 2   text       1378 non-null   object\n",
            " 3   generated  1378 non-null   int64 \n",
            "dtypes: int64(2), object(2)\n",
            "memory usage: 43.2+ KB\n"
          ]
        }
      ],
      "source": [
        "df.info()"
      ]
    },
    {
      "cell_type": "code",
      "execution_count": 6,
      "metadata": {
        "id": "0BXNhvCS6vdK",
        "outputId": "6c928f8c-3172-4031-ad90-341127d73130",
        "colab": {
          "base_uri": "https://localhost:8080/",
          "height": 0
        }
      },
      "outputs": [
        {
          "output_type": "execute_result",
          "data": {
            "text/plain": [
              "(1378, 4)"
            ]
          },
          "metadata": {},
          "execution_count": 6
        }
      ],
      "source": [
        "df.shape"
      ]
    },
    {
      "cell_type": "code",
      "execution_count": 7,
      "metadata": {
        "id": "DG6yozK76vdK",
        "outputId": "3487d850-7a66-48b3-ef33-af9e154985c9",
        "colab": {
          "base_uri": "https://localhost:8080/",
          "height": 0
        }
      },
      "outputs": [
        {
          "output_type": "execute_result",
          "data": {
            "text/plain": [
              "generated\n",
              "0    1375\n",
              "1       3\n",
              "Name: count, dtype: int64"
            ]
          },
          "metadata": {},
          "execution_count": 7
        }
      ],
      "source": [
        "df['generated'].value_counts()"
      ]
    },
    {
      "cell_type": "code",
      "execution_count": 8,
      "metadata": {
        "id": "hzUygNtv6vdL",
        "outputId": "f45e7b82-7d93-4ad4-c316-a267c26b3a45",
        "colab": {
          "base_uri": "https://localhost:8080/",
          "height": 127
        }
      },
      "outputs": [
        {
          "output_type": "execute_result",
          "data": {
            "text/plain": [
              "'Cars. Cars have been around since they became famous in the 1900s, when Henry Ford created and built the first ModelT. Cars have played a major role in our every day lives since then. But now, people are starting to question if limiting car usage would be a good thing. To me, limiting the use of cars might be a good thing to do.\\n\\nIn like matter of this, article, \"In German Suburb, Life Goes On Without Cars,\" by Elizabeth Rosenthal states, how automobiles are the linchpin of suburbs, where middle class families from either Shanghai or Chicago tend to make their homes. Experts say how this is a huge impediment to current efforts to reduce greenhouse gas emissions from tailpipe. Passenger cars are responsible for 12 percent of greenhouse gas emissions in Europe...and up to 50 percent in some carintensive areas in the United States. Cars are the main reason for the greenhouse gas emissions because of a lot of people driving them around all the time getting where they need to go. Article, \"Paris bans driving due to smog,\" by Robert Duffer says, how Paris, after days of nearrecord pollution, enforced a partial driving ban to clear the air of the global city. It also says, how on Monday, motorist with evennumbered license plates were ordered to leave their cars at home or be fined a 22euro fine 31. The same order would be applied to oddnumbered plates the following day. Cars are the reason for polluting entire cities like Paris. This shows how bad cars can be because, of all the pollution that they can cause to an entire city.\\n\\nLikewise, in the article, \"Carfree day is spinning into a big hit in Bogota,\" by Andrew Selsky says, how programs that\\'s set to spread to other countries, millions of Columbians hiked, biked, skated, or took the bus to work during a carfree day, leaving streets of this capital city eerily devoid of traffic jams. It was the third straight year cars have been banned with only buses and taxis permitted for the Day Without Cars in the capital city of 7 million. People like the idea of having carfree days because, it allows them to lesson the pollution that cars put out of their exhaust from people driving all the time. The article also tells how parks and sports centers have bustled throughout the city uneven, pitted sidewalks have been replaced by broad, smooth sidewalks rushhour restrictions have dramatically cut traffic and new restaurants and upscale shopping districts have cropped up. Having no cars has been good for the country of Columbia because, it has aloud them to repair things that have needed repairs for a long time, traffic jams have gone down, and restaurants and shopping districts have popped up, all due to the fact of having less cars around.\\n\\nIn conclusion, the use of less cars and having carfree days, have had a big impact on the environment of cities because, it is cutting down the air pollution that the cars have majorly polluted, it has aloud countries like Columbia to repair sidewalks, and cut down traffic jams. Limiting the use of cars would be a good thing for America. So we should limit the use of cars by maybe riding a bike, or maybe walking somewhere that isn\\'t that far from you and doesn\\'t need the use of a car to get you there. To me, limiting the use of cars might be a good thing to do.'"
            ],
            "application/vnd.google.colaboratory.intrinsic+json": {
              "type": "string"
            }
          },
          "metadata": {},
          "execution_count": 8
        }
      ],
      "source": [
        "df['text'][0]"
      ]
    },
    {
      "cell_type": "markdown",
      "metadata": {
        "id": "pyWDpNZG6vdL"
      },
      "source": [
        "**Checking null values in columns**"
      ]
    },
    {
      "cell_type": "code",
      "execution_count": 9,
      "metadata": {
        "id": "6N8IZk7u6vdL",
        "outputId": "e47a187b-75e3-411b-da58-dc949b807545",
        "colab": {
          "base_uri": "https://localhost:8080/",
          "height": 0
        }
      },
      "outputs": [
        {
          "output_type": "execute_result",
          "data": {
            "text/plain": [
              "id           0\n",
              "prompt_id    0\n",
              "text         0\n",
              "generated    0\n",
              "dtype: int64"
            ]
          },
          "metadata": {},
          "execution_count": 9
        }
      ],
      "source": [
        "df.isnull().sum()"
      ]
    },
    {
      "cell_type": "code",
      "execution_count": 10,
      "metadata": {
        "id": "WhJ9rAHj6vdL",
        "outputId": "144d2f28-005b-4593-bb99-d029927fb400",
        "colab": {
          "base_uri": "https://localhost:8080/",
          "height": 0
        }
      },
      "outputs": [
        {
          "output_type": "stream",
          "name": "stdout",
          "text": [
            "<class 'pandas.core.series.Series'>\n",
            "<class 'pandas.core.series.Series'>\n"
          ]
        }
      ],
      "source": [
        "# checking column type\n",
        "print(type(df[\"text\"]))\n",
        "print(type(df[\"generated\"]))"
      ]
    },
    {
      "cell_type": "code",
      "execution_count": 11,
      "metadata": {
        "id": "Cli4cscV6vdM",
        "outputId": "cf4545ef-53fd-4a76-90db-e2959e84441e",
        "colab": {
          "base_uri": "https://localhost:8080/",
          "height": 0
        }
      },
      "outputs": [
        {
          "output_type": "execute_result",
          "data": {
            "text/plain": [
              "generated\n",
              "0    1375\n",
              "1       3\n",
              "Name: count, dtype: int64"
            ]
          },
          "metadata": {},
          "execution_count": 11
        }
      ],
      "source": [
        "df['generated'].value_counts()"
      ]
    },
    {
      "cell_type": "markdown",
      "metadata": {
        "id": "Y7pGD06Y6vdM"
      },
      "source": [
        "#### Since the original dataset is containing 1378 samples which are not enough for expected model performamce. Model is overfittig upon this dataset. So now Data Augmentation is required. The following dataset is the extended dataset which is going to be augmented to the original dataset."
      ]
    },
    {
      "cell_type": "code",
      "execution_count": 12,
      "metadata": {
        "id": "UaL8vEhi6vdM"
      },
      "outputs": [],
      "source": [
        "synthetic_df = pd.read_csv(\"/content/drive/MyDrive/Colab Notebooks/synthetic_data.csv\")"
      ]
    },
    {
      "cell_type": "code",
      "execution_count": 13,
      "metadata": {
        "id": "FotNKb5j6vdM",
        "outputId": "33a67c4e-e8d9-4a7c-c07b-7bd5802d8fb5",
        "colab": {
          "base_uri": "https://localhost:8080/",
          "height": 206
        }
      },
      "outputs": [
        {
          "output_type": "execute_result",
          "data": {
            "text/plain": [
              "         id  prompt_id                                               text  \\\n",
              "0  513c576d          1  Many people question why we use the Electoral ...   \n",
              "1  6ce5f8fb          0  Dear Senator Nelson, In recent years, many peo...   \n",
              "2  9f45f83a          1  Dear Mr. Senator, I believe that the way our e...   \n",
              "3  71168011          0  How could we get the reduction of Greenhouse G...   \n",
              "4  2f216503          0  There has beeon a major awareoness of the effe...   \n",
              "\n",
              "   generated  \n",
              "0          0  \n",
              "1          0  \n",
              "2          0  \n",
              "3          0  \n",
              "4          0  "
            ],
            "text/html": [
              "\n",
              "  <div id=\"df-7e1ce43f-fdde-48d3-9404-c83c12503a57\" class=\"colab-df-container\">\n",
              "    <div>\n",
              "<style scoped>\n",
              "    .dataframe tbody tr th:only-of-type {\n",
              "        vertical-align: middle;\n",
              "    }\n",
              "\n",
              "    .dataframe tbody tr th {\n",
              "        vertical-align: top;\n",
              "    }\n",
              "\n",
              "    .dataframe thead th {\n",
              "        text-align: right;\n",
              "    }\n",
              "</style>\n",
              "<table border=\"1\" class=\"dataframe\">\n",
              "  <thead>\n",
              "    <tr style=\"text-align: right;\">\n",
              "      <th></th>\n",
              "      <th>id</th>\n",
              "      <th>prompt_id</th>\n",
              "      <th>text</th>\n",
              "      <th>generated</th>\n",
              "    </tr>\n",
              "  </thead>\n",
              "  <tbody>\n",
              "    <tr>\n",
              "      <th>0</th>\n",
              "      <td>513c576d</td>\n",
              "      <td>1</td>\n",
              "      <td>Many people question why we use the Electoral ...</td>\n",
              "      <td>0</td>\n",
              "    </tr>\n",
              "    <tr>\n",
              "      <th>1</th>\n",
              "      <td>6ce5f8fb</td>\n",
              "      <td>0</td>\n",
              "      <td>Dear Senator Nelson, In recent years, many peo...</td>\n",
              "      <td>0</td>\n",
              "    </tr>\n",
              "    <tr>\n",
              "      <th>2</th>\n",
              "      <td>9f45f83a</td>\n",
              "      <td>1</td>\n",
              "      <td>Dear Mr. Senator, I believe that the way our e...</td>\n",
              "      <td>0</td>\n",
              "    </tr>\n",
              "    <tr>\n",
              "      <th>3</th>\n",
              "      <td>71168011</td>\n",
              "      <td>0</td>\n",
              "      <td>How could we get the reduction of Greenhouse G...</td>\n",
              "      <td>0</td>\n",
              "    </tr>\n",
              "    <tr>\n",
              "      <th>4</th>\n",
              "      <td>2f216503</td>\n",
              "      <td>0</td>\n",
              "      <td>There has beeon a major awareoness of the effe...</td>\n",
              "      <td>0</td>\n",
              "    </tr>\n",
              "  </tbody>\n",
              "</table>\n",
              "</div>\n",
              "    <div class=\"colab-df-buttons\">\n",
              "\n",
              "  <div class=\"colab-df-container\">\n",
              "    <button class=\"colab-df-convert\" onclick=\"convertToInteractive('df-7e1ce43f-fdde-48d3-9404-c83c12503a57')\"\n",
              "            title=\"Convert this dataframe to an interactive table.\"\n",
              "            style=\"display:none;\">\n",
              "\n",
              "  <svg xmlns=\"http://www.w3.org/2000/svg\" height=\"24px\" viewBox=\"0 -960 960 960\">\n",
              "    <path d=\"M120-120v-720h720v720H120Zm60-500h600v-160H180v160Zm220 220h160v-160H400v160Zm0 220h160v-160H400v160ZM180-400h160v-160H180v160Zm440 0h160v-160H620v160ZM180-180h160v-160H180v160Zm440 0h160v-160H620v160Z\"/>\n",
              "  </svg>\n",
              "    </button>\n",
              "\n",
              "  <style>\n",
              "    .colab-df-container {\n",
              "      display:flex;\n",
              "      gap: 12px;\n",
              "    }\n",
              "\n",
              "    .colab-df-convert {\n",
              "      background-color: #E8F0FE;\n",
              "      border: none;\n",
              "      border-radius: 50%;\n",
              "      cursor: pointer;\n",
              "      display: none;\n",
              "      fill: #1967D2;\n",
              "      height: 32px;\n",
              "      padding: 0 0 0 0;\n",
              "      width: 32px;\n",
              "    }\n",
              "\n",
              "    .colab-df-convert:hover {\n",
              "      background-color: #E2EBFA;\n",
              "      box-shadow: 0px 1px 2px rgba(60, 64, 67, 0.3), 0px 1px 3px 1px rgba(60, 64, 67, 0.15);\n",
              "      fill: #174EA6;\n",
              "    }\n",
              "\n",
              "    .colab-df-buttons div {\n",
              "      margin-bottom: 4px;\n",
              "    }\n",
              "\n",
              "    [theme=dark] .colab-df-convert {\n",
              "      background-color: #3B4455;\n",
              "      fill: #D2E3FC;\n",
              "    }\n",
              "\n",
              "    [theme=dark] .colab-df-convert:hover {\n",
              "      background-color: #434B5C;\n",
              "      box-shadow: 0px 1px 3px 1px rgba(0, 0, 0, 0.15);\n",
              "      filter: drop-shadow(0px 1px 2px rgba(0, 0, 0, 0.3));\n",
              "      fill: #FFFFFF;\n",
              "    }\n",
              "  </style>\n",
              "\n",
              "    <script>\n",
              "      const buttonEl =\n",
              "        document.querySelector('#df-7e1ce43f-fdde-48d3-9404-c83c12503a57 button.colab-df-convert');\n",
              "      buttonEl.style.display =\n",
              "        google.colab.kernel.accessAllowed ? 'block' : 'none';\n",
              "\n",
              "      async function convertToInteractive(key) {\n",
              "        const element = document.querySelector('#df-7e1ce43f-fdde-48d3-9404-c83c12503a57');\n",
              "        const dataTable =\n",
              "          await google.colab.kernel.invokeFunction('convertToInteractive',\n",
              "                                                    [key], {});\n",
              "        if (!dataTable) return;\n",
              "\n",
              "        const docLinkHtml = 'Like what you see? Visit the ' +\n",
              "          '<a target=\"_blank\" href=https://colab.research.google.com/notebooks/data_table.ipynb>data table notebook</a>'\n",
              "          + ' to learn more about interactive tables.';\n",
              "        element.innerHTML = '';\n",
              "        dataTable['output_type'] = 'display_data';\n",
              "        await google.colab.output.renderOutput(dataTable, element);\n",
              "        const docLink = document.createElement('div');\n",
              "        docLink.innerHTML = docLinkHtml;\n",
              "        element.appendChild(docLink);\n",
              "      }\n",
              "    </script>\n",
              "  </div>\n",
              "\n",
              "\n",
              "<div id=\"df-6b19e4b9-80fc-4626-9dc2-1e1ecb0112b2\">\n",
              "  <button class=\"colab-df-quickchart\" onclick=\"quickchart('df-6b19e4b9-80fc-4626-9dc2-1e1ecb0112b2')\"\n",
              "            title=\"Suggest charts\"\n",
              "            style=\"display:none;\">\n",
              "\n",
              "<svg xmlns=\"http://www.w3.org/2000/svg\" height=\"24px\"viewBox=\"0 0 24 24\"\n",
              "     width=\"24px\">\n",
              "    <g>\n",
              "        <path d=\"M19 3H5c-1.1 0-2 .9-2 2v14c0 1.1.9 2 2 2h14c1.1 0 2-.9 2-2V5c0-1.1-.9-2-2-2zM9 17H7v-7h2v7zm4 0h-2V7h2v10zm4 0h-2v-4h2v4z\"/>\n",
              "    </g>\n",
              "</svg>\n",
              "  </button>\n",
              "\n",
              "<style>\n",
              "  .colab-df-quickchart {\n",
              "      --bg-color: #E8F0FE;\n",
              "      --fill-color: #1967D2;\n",
              "      --hover-bg-color: #E2EBFA;\n",
              "      --hover-fill-color: #174EA6;\n",
              "      --disabled-fill-color: #AAA;\n",
              "      --disabled-bg-color: #DDD;\n",
              "  }\n",
              "\n",
              "  [theme=dark] .colab-df-quickchart {\n",
              "      --bg-color: #3B4455;\n",
              "      --fill-color: #D2E3FC;\n",
              "      --hover-bg-color: #434B5C;\n",
              "      --hover-fill-color: #FFFFFF;\n",
              "      --disabled-bg-color: #3B4455;\n",
              "      --disabled-fill-color: #666;\n",
              "  }\n",
              "\n",
              "  .colab-df-quickchart {\n",
              "    background-color: var(--bg-color);\n",
              "    border: none;\n",
              "    border-radius: 50%;\n",
              "    cursor: pointer;\n",
              "    display: none;\n",
              "    fill: var(--fill-color);\n",
              "    height: 32px;\n",
              "    padding: 0;\n",
              "    width: 32px;\n",
              "  }\n",
              "\n",
              "  .colab-df-quickchart:hover {\n",
              "    background-color: var(--hover-bg-color);\n",
              "    box-shadow: 0 1px 2px rgba(60, 64, 67, 0.3), 0 1px 3px 1px rgba(60, 64, 67, 0.15);\n",
              "    fill: var(--button-hover-fill-color);\n",
              "  }\n",
              "\n",
              "  .colab-df-quickchart-complete:disabled,\n",
              "  .colab-df-quickchart-complete:disabled:hover {\n",
              "    background-color: var(--disabled-bg-color);\n",
              "    fill: var(--disabled-fill-color);\n",
              "    box-shadow: none;\n",
              "  }\n",
              "\n",
              "  .colab-df-spinner {\n",
              "    border: 2px solid var(--fill-color);\n",
              "    border-color: transparent;\n",
              "    border-bottom-color: var(--fill-color);\n",
              "    animation:\n",
              "      spin 1s steps(1) infinite;\n",
              "  }\n",
              "\n",
              "  @keyframes spin {\n",
              "    0% {\n",
              "      border-color: transparent;\n",
              "      border-bottom-color: var(--fill-color);\n",
              "      border-left-color: var(--fill-color);\n",
              "    }\n",
              "    20% {\n",
              "      border-color: transparent;\n",
              "      border-left-color: var(--fill-color);\n",
              "      border-top-color: var(--fill-color);\n",
              "    }\n",
              "    30% {\n",
              "      border-color: transparent;\n",
              "      border-left-color: var(--fill-color);\n",
              "      border-top-color: var(--fill-color);\n",
              "      border-right-color: var(--fill-color);\n",
              "    }\n",
              "    40% {\n",
              "      border-color: transparent;\n",
              "      border-right-color: var(--fill-color);\n",
              "      border-top-color: var(--fill-color);\n",
              "    }\n",
              "    60% {\n",
              "      border-color: transparent;\n",
              "      border-right-color: var(--fill-color);\n",
              "    }\n",
              "    80% {\n",
              "      border-color: transparent;\n",
              "      border-right-color: var(--fill-color);\n",
              "      border-bottom-color: var(--fill-color);\n",
              "    }\n",
              "    90% {\n",
              "      border-color: transparent;\n",
              "      border-bottom-color: var(--fill-color);\n",
              "    }\n",
              "  }\n",
              "</style>\n",
              "\n",
              "  <script>\n",
              "    async function quickchart(key) {\n",
              "      const quickchartButtonEl =\n",
              "        document.querySelector('#' + key + ' button');\n",
              "      quickchartButtonEl.disabled = true;  // To prevent multiple clicks.\n",
              "      quickchartButtonEl.classList.add('colab-df-spinner');\n",
              "      try {\n",
              "        const charts = await google.colab.kernel.invokeFunction(\n",
              "            'suggestCharts', [key], {});\n",
              "      } catch (error) {\n",
              "        console.error('Error during call to suggestCharts:', error);\n",
              "      }\n",
              "      quickchartButtonEl.classList.remove('colab-df-spinner');\n",
              "      quickchartButtonEl.classList.add('colab-df-quickchart-complete');\n",
              "    }\n",
              "    (() => {\n",
              "      let quickchartButtonEl =\n",
              "        document.querySelector('#df-6b19e4b9-80fc-4626-9dc2-1e1ecb0112b2 button');\n",
              "      quickchartButtonEl.style.display =\n",
              "        google.colab.kernel.accessAllowed ? 'block' : 'none';\n",
              "    })();\n",
              "  </script>\n",
              "</div>\n",
              "\n",
              "    </div>\n",
              "  </div>\n"
            ],
            "application/vnd.google.colaboratory.intrinsic+json": {
              "type": "dataframe",
              "variable_name": "synthetic_df",
              "summary": "{\n  \"name\": \"synthetic_df\",\n  \"rows\": 50000,\n  \"fields\": [\n    {\n      \"column\": \"id\",\n      \"properties\": {\n        \"dtype\": \"category\",\n        \"num_unique_values\": 1300,\n        \"samples\": [\n          \"540af857\",\n          \"d828e6e6\",\n          \"d1e52301\"\n        ],\n        \"semantic_type\": \"\",\n        \"description\": \"\"\n      }\n    },\n    {\n      \"column\": \"prompt_id\",\n      \"properties\": {\n        \"dtype\": \"number\",\n        \"std\": 0,\n        \"min\": 0,\n        \"max\": 1,\n        \"num_unique_values\": 2,\n        \"samples\": [\n          0,\n          1\n        ],\n        \"semantic_type\": \"\",\n        \"description\": \"\"\n      }\n    },\n    {\n      \"column\": \"text\",\n      \"properties\": {\n        \"dtype\": \"category\",\n        \"num_unique_values\": 1306,\n        \"samples\": [\n          \"There are many advantages of limiting car usage. Limiting car usage helps reduce smog in the cities. In the article, \\\" Paris Bans Driving Due To Smog\\\", the author, Robert Duffer, talks about France banned driving in order to clean the polluted air. According to the text, \\\" Paris typically has more smog than other European capitals\\\". Here it is evident that Paris has major pollution problems. Most of the vehicles in Paris have diesel fuel rather than gasoline, in which they favor due to a tax policy. \\\"The smog cleared enough Monday for the ruling French party\\\". This clearly shows us that the ban on driving in Paris had an advantage in keeping a clean air.\\n\\nNot only will limiting car usage will maintain an polluted air for us to breathe, but it will decrease traffic jams. In the article, \\\"CarFree day is spinning into a big hit in Bogota\\\", by Andrew Selsky, a program is to \\\"promote alternative transportation\\\". Selsky writes, \\\"Rushhour restrictions have dramatically cut traffic\\\". This tells the reader that this has positive impact on the city.\\n\\nLimiting car usage could save time, improve safety, and conserve resources. According to the article, \\\"The End Of Car Culture\\\", the author mentions how her children live in places in which driving a car would be useful, however its not their priority because they \\\"organize their summer jobs and social life around where they can walk or take public transportation or carpool with friends\\\". Although they could have gotten their own license to drive, it would have been a waste of money and time when there is always an available and less cost transportation.\\n\\nLimiting car usage indeed does have advantages. The limiting of our car usage has positive effect on our enviroment by the reducing of smog, the decrease in traffic jams, conserves our resources and time, and also improves our safety.\",\n          \"Dear, Senator I'am a conserend voter that believes you should represent the people of your party and should apose the electoral college. It causes an unnecessary complication for voting for who will represent the face of the best country on earth. We the people do not want to get the wrong president to represent the majority of the population. The chances of an undefined out come through electoral college may be low but when it comes down to the presidency nothing should be left to chance.\\n\\nThe voters should know how the system of voting for president. They are the ones that decide so they should know how there vote can be used to have the greatest affect. Bradford Plumer states \\\"voters sometimes get confused about the electors and vote for the wrong candidate...sometimes\\\". A democracy is when the people decide the destiny of there country. For them not to know what there chosing takes power out of the hands of the people.\\n\\nThe Winnertakesall system is ok when your on the playground as a childs it does not work in the real world. This system creates Swing States. according to Richard A. Posner \\\"method of awarding electoral votes induces the candidates to focus their campaign efforts on the tossup states\\\". This draws attention away from other states. Bradford Plumer explained that \\\"During the 2000 campaign, seventeen states didn't see the candidates at all\\\". He also clames \\\"putting the fate of the presidency in the hands of a few swing voters in ohio\\\". This is not right each vote should be just as important as another and no state should be the deciding outcome in an election.\\n\\nChance is a crazy thing. If there is a chance of something happening and it's given time it will happen. A number of weird outcomes can happen with electoral college. One outcome is the possibility of having a tie. Richard A. Posner explains\\\"A tie in the nationwide electoral vote is possible because the total number of votes538 is an even number\\\". If a tie happens the represenetives vote for the people and because each state has one vote per electoral college...\\\"55 representatives from california, who represent 35 millon voters.\\\". Second posible out come is the majority vote goes to one canadite and the electoral college goes to the other. For example Bradford Plumer wrote\\\"This year voters can expect another close election in which the popular vote winner could again lose the presidency.\\\" These are just two of the odd outcomes of electoral colleges could cause.\\n\\nElectoral college don't solve problems but creat them. The best way to put it is this...\\\"It's official: The electoral college is unfair, outdated, and irrational. The best arguments in favor of it are most assertions without much basis in reality. And the arguments against direct elections are spurious at best.\"\n        ],\n        \"semantic_type\": \"\",\n        \"description\": \"\"\n      }\n    },\n    {\n      \"column\": \"generated\",\n      \"properties\": {\n        \"dtype\": \"number\",\n        \"std\": 0,\n        \"min\": 0,\n        \"max\": 1,\n        \"num_unique_values\": 2,\n        \"samples\": [\n          1,\n          0\n        ],\n        \"semantic_type\": \"\",\n        \"description\": \"\"\n      }\n    }\n  ]\n}"
            }
          },
          "metadata": {},
          "execution_count": 13
        }
      ],
      "source": [
        "synthetic_df.head()"
      ]
    },
    {
      "cell_type": "code",
      "execution_count": 14,
      "metadata": {
        "id": "JXqZaPNq6vdN",
        "outputId": "f299907b-52a8-4e5d-cff5-2af1864b0ce1",
        "colab": {
          "base_uri": "https://localhost:8080/",
          "height": 0
        }
      },
      "outputs": [
        {
          "output_type": "stream",
          "name": "stdout",
          "text": [
            "<class 'pandas.core.frame.DataFrame'>\n",
            "RangeIndex: 50000 entries, 0 to 49999\n",
            "Data columns (total 4 columns):\n",
            " #   Column     Non-Null Count  Dtype \n",
            "---  ------     --------------  ----- \n",
            " 0   id         50000 non-null  object\n",
            " 1   prompt_id  50000 non-null  int64 \n",
            " 2   text       50000 non-null  object\n",
            " 3   generated  50000 non-null  int64 \n",
            "dtypes: int64(2), object(2)\n",
            "memory usage: 1.5+ MB\n"
          ]
        }
      ],
      "source": [
        "synthetic_df.info()"
      ]
    },
    {
      "cell_type": "code",
      "execution_count": 15,
      "metadata": {
        "id": "BUHsEkrl6vdN",
        "outputId": "9f200abe-e306-4f1e-f78f-0a880e6f11ae",
        "colab": {
          "base_uri": "https://localhost:8080/",
          "height": 0
        }
      },
      "outputs": [
        {
          "output_type": "execute_result",
          "data": {
            "text/plain": [
              "(50000, 4)"
            ]
          },
          "metadata": {},
          "execution_count": 15
        }
      ],
      "source": [
        "synthetic_df.shape"
      ]
    },
    {
      "cell_type": "code",
      "execution_count": 16,
      "metadata": {
        "id": "WwCfwio56vdN",
        "outputId": "0e569339-a23f-428a-f472-dd4f2da00f20",
        "colab": {
          "base_uri": "https://localhost:8080/",
          "height": 127
        }
      },
      "outputs": [
        {
          "output_type": "execute_result",
          "data": {
            "text/plain": [
              "'Dear Senator Nelson, In recent years, many people have called for the change of the presidential election process. Specifically, the Electoral College. Many consider it a pointless, unfair, and archaic system that denies the people the liberty of choosing their president. However, I believe the Electoral College is a necessity in modern America. Although it is as old as the country itself, it is still relevant and useful today.\\n\\nThe Electoral College ensures the outcome of an election. Without the Electoral College, the election may possibly need multiple reruns as a result of a tie in the popular vote. According to \"Does the Electoral College work?\" by the Office of the Federal Register, \"The Electoral College consists of 538 electors. A majority of 270 electoral votes is required to elect the president\". With that few of electors, it reduces the chances of a tie occurring. Although it can happen however, it\\'s not probable. For example, if two candidates ever had a tie among the popular vote, it could be resolved within the college because of the way the slates of electors are divided up among the states. Some critics of the college say that this systems takes the control out of the peoples hands and denies them the right of choice. However, you have to remember that the people elect a slate of electors to vote for their candidate. That means that even though the College ultimately decides the president, the people still have someone to represent their candidates.\\n\\nThe Electoral College is also a necessity because it forces the candidates to face issues the people care about and to appeal to the masses. According to \"In Defense of the Electoral College: 5 reasons to keep our despised method of choosing the president\" by Richard A. Posner, \"The Electoral College requires a presidential candidate to have transregional appeal. No region South, Northeast, etc. has enough electoral votes to elect a president. So, a solid regional favorite, such as Romney was in the South, has no incentive to campaign heavily in those states, for he gains no electoral votes by increasing his pluralarity in those states\". This means that in order to win the popular vote and get a chance to win within the Electoral College, a candidate must appeal to the country, not just a particular set of voters who may have different views on politics than the majority of voters. Some people say that a candidate may try to appeal to a set of voters but in the end just use them in order to win the presidency. To that I say this. As a candidate, your ultimate goal is to serve two full terms as the president of the world\\'s leading superpower right? Why would a candidate want to lie and jeprodize their chances at doing what they feel is right for the country?\\n\\nIn Conclusion, the Electoral college must not be done away with. It is a necessary tool to maintain fairness among the candidates and the election process. We have checks and balances among the government so one branch of government may never gain more power over the others so why not supervise the most important process in government? If you take anything at all away from this letter, please let it be this. The Electoral College is a staple in American politics. Without it, we would be denying our country the right to a fair election.'"
            ],
            "application/vnd.google.colaboratory.intrinsic+json": {
              "type": "string"
            }
          },
          "metadata": {},
          "execution_count": 16
        }
      ],
      "source": [
        "synthetic_df['text'][1]"
      ]
    },
    {
      "cell_type": "code",
      "execution_count": 17,
      "metadata": {
        "id": "SwutwI0t6vdN",
        "outputId": "1bd7dc10-0f64-4fb8-ff1e-7d1f8cb9bb65",
        "colab": {
          "base_uri": "https://localhost:8080/",
          "height": 0
        }
      },
      "outputs": [
        {
          "output_type": "execute_result",
          "data": {
            "text/plain": [
              "id           0\n",
              "prompt_id    0\n",
              "text         0\n",
              "generated    0\n",
              "dtype: int64"
            ]
          },
          "metadata": {},
          "execution_count": 17
        }
      ],
      "source": [
        "synthetic_df.isnull().sum()"
      ]
    },
    {
      "cell_type": "code",
      "execution_count": 18,
      "metadata": {
        "id": "HSm_xd3L6vdN",
        "outputId": "1fa24418-ae3e-4706-9cf3-9b92736f9b8d",
        "colab": {
          "base_uri": "https://localhost:8080/",
          "height": 0
        }
      },
      "outputs": [
        {
          "output_type": "execute_result",
          "data": {
            "text/plain": [
              "generated\n",
              "0    49501\n",
              "1      499\n",
              "Name: count, dtype: int64"
            ]
          },
          "metadata": {},
          "execution_count": 18
        }
      ],
      "source": [
        "u = synthetic_df['generated'].value_counts() #count() #nunique()\n",
        "u"
      ]
    },
    {
      "cell_type": "markdown",
      "metadata": {
        "id": "Gas6cN876vdO"
      },
      "source": [
        "# **Data Preprocessing**"
      ]
    },
    {
      "cell_type": "markdown",
      "metadata": {
        "id": "1yGYrqza6vdO"
      },
      "source": [
        "**Dropping columns which we do not need in both original and synthetic datasets for training**"
      ]
    },
    {
      "cell_type": "code",
      "execution_count": 19,
      "metadata": {
        "id": "LUBrZhsZ6vdO"
      },
      "outputs": [],
      "source": [
        "df           = df.drop(columns = ['id', 'prompt_id'], axis=1)\n",
        "synthetic_df = synthetic_df.drop(columns = ['id', 'prompt_id'], axis= 1)"
      ]
    },
    {
      "cell_type": "code",
      "execution_count": 20,
      "metadata": {
        "id": "3LhLY-rf6vdO",
        "outputId": "5b59261a-f2ad-4774-f91c-07a288b2d439",
        "colab": {
          "base_uri": "https://localhost:8080/",
          "height": 0
        }
      },
      "outputs": [
        {
          "output_type": "stream",
          "name": "stdout",
          "text": [
            "columns of original dataset:  Index(['text', 'generated'], dtype='object')\n",
            "columns of synthetic dataset:  Index(['text', 'generated'], dtype='object')\n"
          ]
        }
      ],
      "source": [
        "print(\"columns of original dataset: \", df.columns)\n",
        "print(\"columns of synthetic dataset: \", synthetic_df.columns)"
      ]
    },
    {
      "cell_type": "markdown",
      "metadata": {
        "id": "_bVDgkKL6vdO"
      },
      "source": [
        "**Let's merge the generated (sysnthetic dataset) with the original dataset horizontally.**"
      ]
    },
    {
      "cell_type": "code",
      "execution_count": 21,
      "metadata": {
        "id": "RLFcDUC_6vdO",
        "outputId": "13529f5c-7d9a-4302-a5f2-60d31c5a43a4",
        "colab": {
          "base_uri": "https://localhost:8080/",
          "height": 0
        }
      },
      "outputs": [
        {
          "output_type": "execute_result",
          "data": {
            "text/plain": [
              "(51378, 2)"
            ]
          },
          "metadata": {},
          "execution_count": 21
        }
      ],
      "source": [
        "merged_datasets = [df, synthetic_df]\n",
        "new_df = pd.concat(merged_datasets, ignore_index=True)\n",
        "new_df.shape"
      ]
    },
    {
      "cell_type": "code",
      "execution_count": 22,
      "metadata": {
        "id": "mlKWMrog6vdP",
        "outputId": "efd3e8be-3b11-4d77-ac38-158625deb400",
        "colab": {
          "base_uri": "https://localhost:8080/",
          "height": 0
        }
      },
      "outputs": [
        {
          "output_type": "execute_result",
          "data": {
            "text/plain": [
              "Index(['text', 'generated'], dtype='object')"
            ]
          },
          "metadata": {},
          "execution_count": 22
        }
      ],
      "source": [
        "new_df.columns"
      ]
    },
    {
      "cell_type": "markdown",
      "metadata": {
        "id": "feAwlGua6vdT"
      },
      "source": [
        "# **Plotting the distribution of input sequences**"
      ]
    },
    {
      "cell_type": "code",
      "execution_count": 23,
      "metadata": {
        "id": "obmMCqPq6vdT"
      },
      "outputs": [],
      "source": [
        "sequence_lengths = [len(sequence.split()) for sequence in new_df['text']]"
      ]
    },
    {
      "cell_type": "code",
      "execution_count": 24,
      "metadata": {
        "id": "0G8sX6SQ6vdT",
        "outputId": "27624bdd-fad1-483d-f47f-fb3fe4298ae1",
        "colab": {
          "base_uri": "https://localhost:8080/",
          "height": 564
        }
      },
      "outputs": [
        {
          "output_type": "display_data",
          "data": {
            "text/plain": [
              "<Figure size 1000x600 with 1 Axes>"
            ],
            "image/png": "[encoded data removed]"
          },
          "metadata": {}
        }
      ],
      "source": [
        "# Plot the distribution of sequence lengths\n",
        "plt.figure(figsize=(10, 6))\n",
        "plt.hist(sequence_lengths, bins=20, color='blue', edgecolor='black')\n",
        "plt.title('Distribution of Text Sequence Lengths')\n",
        "plt.xlabel('Sequence Length')\n",
        "plt.ylabel('Frequency')\n",
        "plt.grid(True)\n",
        "plt.show()"
      ]
    },
    {
      "cell_type": "code",
      "execution_count": 25,
      "metadata": {
        "id": "2VzKjZ-h6vdT",
        "outputId": "44b47d7e-884a-49b5-eeab-43dbf3d2fe9c",
        "colab": {
          "base_uri": "https://localhost:8080/",
          "height": 0
        }
      },
      "outputs": [
        {
          "output_type": "stream",
          "name": "stdout",
          "text": [
            "95th percentile length: 858\n"
          ]
        }
      ],
      "source": [
        "# Calculate the 95th percentile length\n",
        "max_length = int(np.percentile(sequence_lengths, 95))\n",
        "print(f\"95th percentile length: {max_length}\")"
      ]
    },
    {
      "cell_type": "code",
      "execution_count": 26,
      "metadata": {
        "id": "Pzgt9zfc6vdU",
        "outputId": "b75b0eee-055b-400f-d7bf-6abe235144f7",
        "colab": {
          "base_uri": "https://localhost:8080/",
          "height": 0
        }
      },
      "outputs": [
        {
          "output_type": "stream",
          "name": "stdout",
          "text": [
            "Maximum length: 1360\n"
          ]
        }
      ],
      "source": [
        "# Calculate the maximum length\n",
        "max_length_max = max(sequence_lengths)\n",
        "print(f\"Maximum length: {max_length_max}\")"
      ]
    },
    {
      "cell_type": "code",
      "execution_count": 27,
      "metadata": {
        "id": "zZKHr5JA6vdU",
        "outputId": "fbb09f1a-3ff6-4c47-d6a2-7db86a8b5716",
        "colab": {
          "base_uri": "https://localhost:8080/",
          "height": 0
        }
      },
      "outputs": [
        {
          "output_type": "stream",
          "name": "stdout",
          "text": [
            "Total number of words in a dataset is: 28877620\n"
          ]
        }
      ],
      "source": [
        "def count_words(doc):\n",
        "    split_words = doc.split()\n",
        "    num_of_words = len(split_words)\n",
        "\n",
        "    return num_of_words\n",
        "\n",
        "#Apply the function the 'text' column of a dataset\n",
        "total_words = new_df['text'].apply(count_words).sum()\n",
        "\n",
        "# print the sum of the word count\n",
        "print(\"Total number of words in a dataset is:\", total_words)\n",
        "\n"
      ]
    },
    {
      "cell_type": "markdown",
      "metadata": {
        "id": "UY-cj2Xt6vdU"
      },
      "source": [
        "### **Maximum length of text document**"
      ]
    },
    {
      "cell_type": "code",
      "execution_count": 28,
      "metadata": {
        "id": "0t_dyCum6vdU",
        "outputId": "475e2c2a-ae88-46d2-f8d6-a09fcc4355e0",
        "colab": {
          "base_uri": "https://localhost:8080/",
          "height": 0
        }
      },
      "outputs": [
        {
          "output_type": "stream",
          "name": "stdout",
          "text": [
            "The maximum length of text is: 1360\n"
          ]
        }
      ],
      "source": [
        "def max_text(text_column):\n",
        "\n",
        "    text_length_list = []\n",
        "    for document in text_column:\n",
        "        words = document.split()\n",
        "        text_length_list.append(len(words))\n",
        "\n",
        "    max_length = max(text_length_list)\n",
        "\n",
        "    return max_length\n",
        "print(f\"The maximum length of text is: {max_text(new_df['text'])}\")"
      ]
    },
    {
      "cell_type": "markdown",
      "metadata": {
        "id": "KbCXP-4M6vdU"
      },
      "source": [
        "### Average length of text column"
      ]
    },
    {
      "cell_type": "markdown",
      "metadata": {
        "id": "ao3wQA3c6vdU"
      },
      "source": [
        "#### Choosing the mean length of the documents as the value for the parameter \"output_sequence_length\""
      ]
    },
    {
      "cell_type": "code",
      "execution_count": 29,
      "metadata": {
        "id": "65g6I6qy6vdV",
        "outputId": "28e4f5c4-678a-4518-c888-c48f3319026d",
        "colab": {
          "base_uri": "https://localhost:8080/",
          "height": 0
        }
      },
      "outputs": [
        {
          "output_type": "stream",
          "name": "stdout",
          "text": [
            "The average length of the col text is: 562.0619720502939\n"
          ]
        }
      ],
      "source": [
        "def calculate_mean(text):\n",
        "    text_list = []\n",
        "    for doc in text:\n",
        "        words = doc.split()\n",
        "        text_list.append(len(words))\n",
        "\n",
        "    sum_of_lengths = sum(text_list)\n",
        "    average = sum_of_lengths/len(new_df)\n",
        "\n",
        "    return average\n",
        "print(f\"The average length of the col text is: {calculate_mean(new_df['text'])}\")"
      ]
    },
    {
      "cell_type": "markdown",
      "metadata": {
        "id": "xJ_H6_9r6vdV"
      },
      "source": [
        "### **Vacabulary size**"
      ]
    },
    {
      "cell_type": "code",
      "execution_count": 30,
      "metadata": {
        "id": "3hR1WhGv6vdV",
        "outputId": "ebe31c42-2fdd-4039-d8a0-ef3f67607712",
        "colab": {
          "base_uri": "https://localhost:8080/",
          "height": 0
        }
      },
      "outputs": [
        {
          "output_type": "stream",
          "name": "stdout",
          "text": [
            "0        {'s, limit, greenhouse, motorist, sidewalks, a...\n",
            "1        {'s, greenhouse, sidewalks, health, at, gases,...\n",
            "2        {stem, behind, if, fact, effcts, users, colomb...\n",
            "3        {skating, each, improved, if, ignition, taking...\n",
            "4        {if, Your, stuck, over, plates, can, off, plac...\n",
            "                               ...                        \n",
            "51373    {mayor, easy, if, appealing, paths, Doug, Like...\n",
            "51374    {'s, focusing, votes, different, at, each, can...\n",
            "51375    {damage, limit, pollutants, tell, study, Cars,...\n",
            "51376    {behind, each, if, president, last, faced, rel...\n",
            "51377    {different, 's, votes, founding, two, if, Coll...\n",
            "Name: text, Length: 51378, dtype: object\n"
          ]
        }
      ],
      "source": [
        "def collect_unique_words(doc):\n",
        "    split_words = word_tokenize(doc)                  # spliting words into tokens/words\n",
        "    unique_words = set(split_words)                   # collecting unique words.Create a set to remove duplicates automatically\n",
        "\n",
        "    return unique_words\n",
        "\n",
        "unique_words_per_doc = new_df['text'].apply(collect_unique_words)\n",
        "print(unique_words_per_doc)"
      ]
    },
    {
      "cell_type": "code",
      "execution_count": 31,
      "metadata": {
        "id": "IVWdjZJg6vdV",
        "outputId": "19b984c2-4ba5-4f0d-f837-3b8b80d77afa",
        "colab": {
          "base_uri": "https://localhost:8080/",
          "height": 0
        }
      },
      "outputs": [
        {
          "output_type": "stream",
          "name": "stdout",
          "text": [
            "The total number of vocabulary in dataset is:  18712\n"
          ]
        }
      ],
      "source": [
        "# collecting all unique words\n",
        "# Flatten the list of sets whcih composed of unique words-collected from the dataset above\n",
        "all_unique_words = set().union(*unique_words_per_doc)\n",
        "\n",
        "vocabulary_size = len(all_unique_words)\n",
        "print(\"The total number of vocabulary in dataset is: \", vocabulary_size)"
      ]
    },
    {
      "cell_type": "code",
      "execution_count": 32,
      "metadata": {
        "id": "1Z5U5dJn6vdW",
        "outputId": "c8d0b14a-83c5-4a40-9957-270b852be1d5",
        "colab": {
          "base_uri": "https://localhost:8080/",
          "height": 0
        }
      },
      "outputs": [
        {
          "output_type": "stream",
          "name": "stdout",
          "text": [
            "The most common words are: 18712\n"
          ]
        }
      ],
      "source": [
        "# Calculate frequency distribution\n",
        "freq_dist = FreqDist(all_unique_words)\n",
        "\n",
        "# Find the most common words\n",
        "most_common_words = freq_dist.most_common()\n",
        "\n",
        "print(f\"The most common words are: {len(most_common_words)}\")"
      ]
    },
    {
      "cell_type": "markdown",
      "metadata": {
        "id": "nm3D2vdg6vdW"
      },
      "source": [
        "## Train_Test Split"
      ]
    },
    {
      "cell_type": "code",
      "execution_count": 33,
      "metadata": {
        "id": "478bj3QW6vdW",
        "outputId": "1cbc4100-35d9-47ab-abe2-0191c83ae263",
        "colab": {
          "base_uri": "https://localhost:8080/",
          "height": 0
        }
      },
      "outputs": [
        {
          "output_type": "stream",
          "name": "stdout",
          "text": [
            "Train set size: 34936\n",
            "Validation set size: 6166\n",
            "Test set size: 10276\n"
          ]
        }
      ],
      "source": [
        "shuffled_df = new_df.sample(frac=1, random_state=42)  # Shuffle with random seed for reproducibility\n",
        "\n",
        "# Separate features (X) and labels (y)\n",
        "X = new_df[\"text\"]            #df.drop(columns=['label_column'])\n",
        "y = new_df[\"generated\"]       #df['label_column']\n",
        "\n",
        "# First split the dataset into train and test sets\n",
        "X_train, X_test, y_train, y_test = train_test_split(X, y, test_size=0.2, random_state=42)\n",
        "\n",
        "# Then split the train set further into train and validation sets\n",
        "X_train, X_val, y_train, y_val = train_test_split(X_train, y_train, test_size=0.15, random_state=42)\n",
        "\n",
        "# Print the sizes of the subsets\n",
        "print(\"Train set size:\", len(X_train))\n",
        "print(\"Validation set size:\", len(X_val))\n",
        "print(\"Test set size:\", len(X_test))"
      ]
    },
    {
      "cell_type": "code",
      "execution_count": 34,
      "metadata": {
        "id": "XCu8aO0J6vdW"
      },
      "outputs": [],
      "source": [
        "train_data = pd.DataFrame({\"text\": X_train, 'label': y_train})\n",
        "train_dataset = tf.data.Dataset.from_tensor_slices((train_data['text'], train_data['label']))\n",
        "\n",
        "#val_data = pd.DataFrame({\"text\": X_val, 'label': y_val})\n",
        "#validation_dataset = tf.data.Dataset.from_tensor_slices((val_data['text'], val_data['label']))"
      ]
    },
    {
      "cell_type": "code",
      "execution_count": 35,
      "metadata": {
        "id": "rP8ihR5h6vdX",
        "outputId": "721870fe-1a45-4e85-a246-2d19e1401242",
        "colab": {
          "base_uri": "https://localhost:8080/",
          "height": 0
        }
      },
      "outputs": [
        {
          "output_type": "stream",
          "name": "stdout",
          "text": [
            "Class distribution: [50876   502]\n"
          ]
        }
      ],
      "source": [
        "texts = new_df['text'].values\n",
        "labels = new_df['generated'].values\n",
        "\n",
        "# Inspect class distribution\n",
        "class_counts = np.bincount(labels)\n",
        "print(f'Class distribution: {class_counts}')"
      ]
    },
    {
      "cell_type": "code",
      "execution_count": 36,
      "metadata": {
        "id": "k7xeTZYQ6vdX"
      },
      "outputs": [],
      "source": [
        "from sklearn.utils.class_weight import compute_class_weight"
      ]
    },
    {
      "cell_type": "code",
      "execution_count": 37,
      "metadata": {
        "id": "I4lJ3-3X6vdX",
        "outputId": "a46776c5-68dd-415d-fbb4-80049e0b33c2",
        "colab": {
          "base_uri": "https://localhost:8080/",
          "height": 0
        }
      },
      "outputs": [
        {
          "output_type": "stream",
          "name": "stdout",
          "text": [
            "Training class counts: [34598   338]\n",
            "Validation class counts: [6099   67]\n"
          ]
        }
      ],
      "source": [
        "# Debug: Check the classes and their counts\n",
        "train_class_counts = np.bincount(y_train)\n",
        "val_class_counts = np.bincount(y_val)\n",
        "print(f'Training class counts: {train_class_counts}')\n",
        "print(f'Validation class counts: {val_class_counts}')"
      ]
    },
    {
      "cell_type": "code",
      "execution_count": 38,
      "metadata": {
        "id": "C3s58s6V6vdX",
        "outputId": "0089c340-d289-4f06-dab4-616e5ec86013",
        "colab": {
          "base_uri": "https://localhost:8080/",
          "height": 0
        }
      },
      "outputs": [
        {
          "output_type": "stream",
          "name": "stdout",
          "text": [
            "Class weights: {0: 0.5048846754147639, 1: 51.680473372781066}\n"
          ]
        }
      ],
      "source": [
        "# Compute class weights\n",
        "unique_classes = np.unique(y_train)  # Get unique classes from y_train\n",
        "class_weights = compute_class_weight(class_weight='balanced', classes=unique_classes, y=y_train)\n",
        "class_weights = {cls: weight for cls, weight in zip(unique_classes, class_weights)}\n",
        "print(f'Class weights: {class_weights}')"
      ]
    },
    {
      "cell_type": "code",
      "execution_count": 39,
      "metadata": {
        "id": "UdT6xv1u6vdY",
        "colab": {
          "base_uri": "https://localhost:8080/",
          "height": 0
        },
        "outputId": "3bc7d20e-6b0d-4cdd-c7b7-0dfd0f8ddaab"
      },
      "outputs": [
        {
          "output_type": "stream",
          "name": "stdout",
          "text": [
            "Keys in class weights dictionary: dict_keys([0, 1])\n"
          ]
        }
      ],
      "source": [
        "print(f'Keys in class weights dictionary: {class_weights.keys()}')\n"
      ]
    },
    {
      "cell_type": "markdown",
      "metadata": {
        "id": "FK9eVRbK6vdY"
      },
      "source": [
        "## **Text Vectorization**"
      ]
    },
    {
      "cell_type": "code",
      "execution_count": 40,
      "metadata": {
        "id": "A3fh40Ce6vdY"
      },
      "outputs": [],
      "source": [
        "# max_len\n",
        "VOCAB_SIZE = vocabulary_size\n",
        "encoder = tf.keras.layers.TextVectorization(\n",
        "          max_tokens=VOCAB_SIZE,                     # Vocabulary size\n",
        "          output_mode = 'int',\n",
        "          standardize='lower_and_strip_punctuation',\n",
        "          #split = 'whitespace'\n",
        "          output_sequence_length = max_length )\n",
        "#encoder.adapt(train_dataset.map(lambda text, label: text))"
      ]
    },
    {
      "cell_type": "code",
      "execution_count": 41,
      "metadata": {
        "id": "UKxYIu7T6vdY"
      },
      "outputs": [],
      "source": [
        "# Adapt the encoder on the training texts\n",
        "#train_dataset = tf.data.Dataset.from_tensor_slices((X_train, y_train))\n",
        "train_dataset = tf.data.Dataset.from_tensor_slices((train_data['text'], train_data['label']))\n",
        "encoder.adapt(train_dataset.map(lambda text, label: text))\n",
        "\n",
        "# Vectorize the training and validation texts using the adapted encoder\n",
        "X_train_vect = encoder(X_train)\n",
        "X_val_vect = encoder(X_val)\n",
        "X_test_vect = encoder(X_test)"
      ]
    },
    {
      "cell_type": "markdown",
      "metadata": {
        "id": "2AjVpD1d6vdY"
      },
      "source": [
        "## **Resampling for Balancing the Imbalance of Classes**\n",
        "Since the dataset is containing high class imbalances, therefore a techiniqe **Random Over Sampling Technique**: is a resampling technique by applying a \"Random Over Sampler\" to increase the number of instaces in the minority class by duplicating them"
      ]
    },
    {
      "cell_type": "code",
      "execution_count": 42,
      "metadata": {
        "id": "cvU9Z08i6vdZ",
        "outputId": "aabaf547-d432-42f1-ef69-c41da399c7ee",
        "colab": {
          "base_uri": "https://localhost:8080/",
          "height": 0
        }
      },
      "outputs": [
        {
          "output_type": "stream",
          "name": "stdout",
          "text": [
            "Class distribution after resampling: {0: 34598, 1: 34598}\n"
          ]
        }
      ],
      "source": [
        "# Apply RandomOverSampler to the training data\n",
        "ros = RandomOverSampler(random_state=42)\n",
        "X_train_resampled, y_train_resampled = ros.fit_resample(X_train_vect.numpy(), y_train)\n",
        "\n",
        "# Verify the new class distribution\n",
        "unique_train_resampled_classes, counts_train_resampled = np.unique(y_train_resampled, return_counts=True)\n",
        "print(f'Class distribution after resampling: {dict(zip(unique_train_resampled_classes, counts_train_resampled))}')"
      ]
    },
    {
      "cell_type": "markdown",
      "metadata": {
        "id": "A0LkOSyp6vdZ"
      },
      "source": [
        "# **Creating model**"
      ]
    },
    {
      "cell_type": "code",
      "execution_count": 43,
      "metadata": {
        "id": "pC7mBqjW6vda"
      },
      "outputs": [],
      "source": [
        "# Define the LSTM model\n",
        "model = tf.keras.Sequential([\n",
        "    tf.keras.layers.InputLayer(input_shape=(max_length,)),  # Add input layer with the shape of the vectorized input\n",
        "    tf.keras.layers.Embedding(\n",
        "        input_dim=len(encoder.get_vocabulary()),\n",
        "        output_dim=64,\n",
        "        mask_zero=True),\n",
        "    tf.keras.layers.Bidirectional(tf.keras.layers.LSTM(units=64, return_sequences=True)),\n",
        "    tf.keras.layers.Dropout(0.3),\n",
        "    tf.keras.layers.Bidirectional(tf.keras.layers.LSTM(units=32)),\n",
        "    tf.keras.layers.Dense(1, activation='sigmoid')\n",
        "])"
      ]
    },
    {
      "cell_type": "markdown",
      "metadata": {
        "id": "plhEbatS6vda"
      },
      "source": [
        "### **Compile the model**"
      ]
    },
    {
      "cell_type": "code",
      "execution_count": 44,
      "metadata": {
        "id": "_UBA6LJN6vdb"
      },
      "outputs": [],
      "source": [
        "#model.compile(loss='binary_crossentropy', optimizer=Adam(learning rate = 0.001), metrics=['accuracy'])\n",
        "model.compile(optimizer= 'adam', loss='binary_crossentropy', metrics=['accuracy'])"
      ]
    },
    {
      "cell_type": "markdown",
      "metadata": {
        "id": "Kr5UzLnq6vdb"
      },
      "source": [
        "### **Train the model**"
      ]
    },
    {
      "cell_type": "code",
      "execution_count": 45,
      "metadata": {
        "scrolled": true,
        "id": "VfhzPzQq6vdc",
        "outputId": "76a5f122-a217-4445-d7c3-476dfdb9a83d",
        "colab": {
          "base_uri": "https://localhost:8080/",
          "height": 0
        }
      },
      "outputs": [
        {
          "output_type": "stream",
          "name": "stdout",
          "text": [
            "Epoch 1/5\n",
            "2163/2163 [==============================] - 348s 151ms/step - loss: 0.3357 - accuracy: 0.8458 - val_loss: 0.3378 - val_accuracy: 0.8437\n",
            "Epoch 2/5\n",
            "2163/2163 [==============================] - 250s 115ms/step - loss: 0.3016 - accuracy: 0.8601 - val_loss: 0.3352 - val_accuracy: 0.8527\n",
            "Epoch 3/5\n",
            "2163/2163 [==============================] - 241s 111ms/step - loss: 0.2994 - accuracy: 0.8608 - val_loss: 0.3825 - val_accuracy: 0.7974\n",
            "Epoch 4/5\n",
            "2163/2163 [==============================] - 234s 108ms/step - loss: 0.2979 - accuracy: 0.8618 - val_loss: 0.3632 - val_accuracy: 0.7963\n",
            "Epoch 5/5\n",
            "2163/2163 [==============================] - 233s 108ms/step - loss: 0.2970 - accuracy: 0.8627 - val_loss: 0.3793 - val_accuracy: 0.8102\n"
          ]
        }
      ],
      "source": [
        "history  = model.fit(X_train_resampled, y_train_resampled, epochs=5, batch_size=32, validation_data=(X_val_vect, y_val))"
      ]
    },
    {
      "cell_type": "markdown",
      "metadata": {
        "id": "-kcakpDM6vdd"
      },
      "source": [
        "### **Evaluation**"
      ]
    },
    {
      "cell_type": "code",
      "execution_count": 46,
      "metadata": {
        "id": "GskPChA26vdd",
        "outputId": "aee1eda0-7fa2-4b25-891c-5a9bfa2bb87e",
        "colab": {
          "base_uri": "https://localhost:8080/",
          "height": 0
        }
      },
      "outputs": [
        {
          "output_type": "stream",
          "name": "stdout",
          "text": [
            "322/322 [==============================] - 14s 44ms/step - loss: 0.3761 - accuracy: 0.8079\n",
            "Test_loss:  0.3760998845100403\n",
            "Test_accuracy:  0.807901918888092\n"
          ]
        }
      ],
      "source": [
        "test_loss, test_accuracy = model.evaluate(X_test_vect, y_test)\n",
        "print(\"Test_loss: \", test_loss)\n",
        "print(\"Test_accuracy: \", test_accuracy)"
      ]
    },
    {
      "cell_type": "markdown",
      "metadata": {
        "id": "r84qCIsn6vdd"
      },
      "source": [
        "### **Prediction**"
      ]
    },
    {
      "cell_type": "code",
      "execution_count": 47,
      "metadata": {
        "id": "k9UjBUx86vdd",
        "colab": {
          "base_uri": "https://localhost:8080/",
          "height": 0
        },
        "outputId": "31f6d935-c344-4450-82cd-33a244e16136"
      },
      "outputs": [
        {
          "output_type": "stream",
          "name": "stdout",
          "text": [
            "322/322 [==============================] - 18s 43ms/step\n",
            "[[3.0745810e-01]\n",
            " [1.6731929e-04]\n",
            " [2.9544529e-01]\n",
            " ...\n",
            " [2.5265361e-04]\n",
            " [1.1470924e-04]\n",
            " [1.7857208e-04]]\n"
          ]
        }
      ],
      "source": [
        "y_pred = model.predict(X_test_vect)#.ravel()    # Ensuring 1-A array of predicted probabilities\n",
        "print(y_pred)"
      ]
    },
    {
      "cell_type": "code",
      "execution_count": 48,
      "metadata": {
        "id": "cdW4dBWl6vde",
        "colab": {
          "base_uri": "https://localhost:8080/",
          "height": 0
        },
        "outputId": "62de2bfc-03fd-4f3d-eaf0-a0b51a58a7a1"
      },
      "outputs": [
        {
          "output_type": "execute_result",
          "data": {
            "text/plain": [
              "(10276, 1)"
            ]
          },
          "metadata": {},
          "execution_count": 48
        }
      ],
      "source": [
        "y_pred.shape"
      ]
    },
    {
      "cell_type": "code",
      "execution_count": 49,
      "metadata": {
        "id": "O9_3q6RV6vde",
        "colab": {
          "base_uri": "https://localhost:8080/",
          "height": 0
        },
        "outputId": "829980f6-ec21-490a-ca12-3403640bba50"
      },
      "outputs": [
        {
          "output_type": "stream",
          "name": "stdout",
          "text": [
            "322/322 [==============================] - 14s 43ms/step\n",
            "[3.0745810e-01 1.6731929e-04 2.9544529e-01 ... 2.5265361e-04 1.1470924e-04\n",
            " 1.7857208e-04]\n"
          ]
        }
      ],
      "source": [
        "y_pred_ravel = model.predict(X_test_vect).ravel()    # Ensuring 1-A array of predicted probabilities\n",
        "print(y_pred_ravel)"
      ]
    },
    {
      "cell_type": "code",
      "execution_count": 50,
      "metadata": {
        "id": "lHrrdo1c6vde",
        "colab": {
          "base_uri": "https://localhost:8080/",
          "height": 0
        },
        "outputId": "b20b0087-f149-46a9-c807-b9d6e32df4ce"
      },
      "outputs": [
        {
          "output_type": "stream",
          "name": "stdout",
          "text": [
            "Range of predicted probabilities: 5.825953485327773e-05 to 0.9698007702827454\n"
          ]
        }
      ],
      "source": [
        "print(f\"Range of predicted probabilities: {y_pred_ravel.min()} to {y_pred_ravel.max()}\")"
      ]
    },
    {
      "cell_type": "markdown",
      "metadata": {
        "id": "0u8orytT6vde"
      },
      "source": [
        "### **Calculation of Classification Report**"
      ]
    },
    {
      "cell_type": "code",
      "execution_count": 51,
      "metadata": {
        "id": "A59hMGFm6vde"
      },
      "outputs": [],
      "source": [
        "# converting predicted probabilities to binary labels\n",
        "y_pred_binary = (y_pred_ravel > 0.5).astype(int)\n",
        "y_test_binary = y_test.astype(int)"
      ]
    },
    {
      "cell_type": "code",
      "execution_count": 52,
      "metadata": {
        "id": "slj4Ui2S6vde",
        "colab": {
          "base_uri": "https://localhost:8080/",
          "height": 0
        },
        "outputId": "f7a17a58-14a8-41c0-82f0-ed9f1fbdbe94"
      },
      "outputs": [
        {
          "output_type": "stream",
          "name": "stdout",
          "text": [
            "              precision    recall  f1-score   support\n",
            "\n",
            "           0       1.00      0.81      0.89     10179\n",
            "           1       0.03      0.66      0.06        97\n",
            "\n",
            "    accuracy                           0.81     10276\n",
            "   macro avg       0.51      0.73      0.48     10276\n",
            "weighted avg       0.99      0.81      0.89     10276\n",
            "\n",
            "\n",
            "*********************************\n",
            "Accuracy score: 0.8079019073569482\n"
          ]
        }
      ],
      "source": [
        "report = classification_report(y_test_binary, y_pred_binary)\n",
        "accuracy= accuracy_score(y_test_binary, y_pred_binary)\n",
        "\n",
        "\n",
        "print(report)\n",
        "print(\"\\n*********************************\")\n",
        "print(f\"Accuracy score: {accuracy}\")"
      ]
    },
    {
      "cell_type": "code",
      "execution_count": 53,
      "metadata": {
        "id": "ueEfdA3z6vdf",
        "colab": {
          "base_uri": "https://localhost:8080/",
          "height": 472
        },
        "outputId": "e8b6fda4-fe31-4749-ba5a-ce2e78b9681c"
      },
      "outputs": [
        {
          "output_type": "display_data",
          "data": {
            "text/plain": [
              "<Figure size 640x480 with 1 Axes>"
            ],
            "image/png": "[encoded data removed]"
          },
          "metadata": {}
        }
      ],
      "source": [
        "plt.plot(history.history['accuracy'], label='training accuracy')\n",
        "plt.plot(history.history['val_accuracy'], label='validation accuracy')\n",
        "plt.title('Model Accuracy')\n",
        "plt.ylabel('Accuracy')\n",
        "plt.xlabel('Epoch')\n",
        "plt.legend()\n",
        "plt.show()"
      ]
    },
    {
      "cell_type": "code",
      "execution_count": 54,
      "metadata": {
        "id": "rHhf4id36vdf",
        "colab": {
          "base_uri": "https://localhost:8080/",
          "height": 472
        },
        "outputId": "38eaf372-0913-417c-ecf4-efe10944f7d8"
      },
      "outputs": [
        {
          "output_type": "display_data",
          "data": {
            "text/plain": [
              "<Figure size 640x480 with 1 Axes>"
            ],
            "image/png": "[encoded data removed]"
          },
          "metadata": {}
        }
      ],
      "source": [
        "# Plot training loss\n",
        "plt.plot(history.history['loss'], label='training loss')\n",
        "plt.plot(history.history['val_loss'], label='validation loss')\n",
        "plt.title('Model Loss')\n",
        "plt.ylabel('Loss')\n",
        "plt.xlabel('Epoch')\n",
        "plt.legend()\n",
        "plt.show()"
      ]
    },
    {
      "cell_type": "markdown",
      "metadata": {
        "id": "xzZKZFSg6vdf"
      },
      "source": [
        "### **Display of Confusion Matrix**"
      ]
    },
    {
      "cell_type": "code",
      "execution_count": 55,
      "metadata": {
        "id": "lrbIQzMf6vdf",
        "colab": {
          "base_uri": "https://localhost:8080/",
          "height": 0
        },
        "outputId": "e68cc40a-e912-41e4-a74c-849498921348"
      },
      "outputs": [
        {
          "output_type": "stream",
          "name": "stdout",
          "text": [
            "[[8238 1941]\n",
            " [  33   64]]\n"
          ]
        }
      ],
      "source": [
        "conf_matrix = confusion_matrix(y_test_binary, y_pred_binary)\n",
        "print(conf_matrix)"
      ]
    },
    {
      "cell_type": "code",
      "execution_count": 56,
      "metadata": {
        "id": "0dtoHGIW6vdf",
        "colab": {
          "base_uri": "https://localhost:8080/",
          "height": 487
        },
        "outputId": "480370a5-1fbb-48e9-f3b2-2ba1fe95cff9"
      },
      "outputs": [
        {
          "output_type": "display_data",
          "data": {
            "text/plain": [
              "<Figure size 640x480 with 2 Axes>"
            ],
            "image/png": "[encoded data removed]"
          },
          "metadata": {}
        }
      ],
      "source": [
        "import seaborn as sns\n",
        "\n",
        "sns.heatmap(conf_matrix, annot=True, cmap='Blues', fmt='d', xticklabels=['Human', 'AI'], yticklabels=['Human', 'AI'])  # Format as integers\n",
        "plt.xlabel('Predicted Label')\n",
        "plt.ylabel('Actual Label')\n",
        "plt.title('Confusion Matrix')\n",
        "plt.tight_layout()\n",
        "plt.show()"
      ]
    },
    {
      "cell_type": "markdown",
      "metadata": {
        "id": "oXzJJK536vdg"
      },
      "source": [
        "### **Calculate and Display of ROC Curve**"
      ]
    },
    {
      "cell_type": "code",
      "execution_count": 57,
      "metadata": {
        "id": "1_eCO0Dp6vdg",
        "colab": {
          "base_uri": "https://localhost:8080/",
          "height": 0
        },
        "outputId": "e13ff491-edac-483d-be3d-b1a6a8429edb"
      },
      "outputs": [
        {
          "output_type": "execute_result",
          "data": {
            "text/plain": [
              "0.7345535532524512"
            ]
          },
          "metadata": {},
          "execution_count": 57
        }
      ],
      "source": [
        "fpr , tpr, thresholds = roc_curve(y_test_binary,y_pred_binary)\n",
        "roc_auc = auc(fpr, tpr)\n",
        "roc_auc"
      ]
    },
    {
      "cell_type": "code",
      "execution_count": 58,
      "metadata": {
        "id": "tMo6Pea76vdg",
        "colab": {
          "base_uri": "https://localhost:8080/",
          "height": 564
        },
        "outputId": "5a37fe02-445a-4b0d-b09e-5ad73eaeb98c"
      },
      "outputs": [
        {
          "output_type": "display_data",
          "data": {
            "text/plain": [
              "<Figure size 800x600 with 1 Axes>"
            ],
            "image/png": "[encoded data removed]"
          },
          "metadata": {}
        }
      ],
      "source": [
        "plt.figure(figsize=(8, 6))\n",
        "plt.plot(fpr, tpr, label='ROC curve (area = %0.2f)' % roc_auc)\n",
        "plt.plot([0, 1], [0, 1], 'k--', label='No Skill')  # Reference line\n",
        "plt.xlim([0.0, 1.0])\n",
        "plt.ylim([0.0, 1.05])\n",
        "plt.xlabel('False Positive Rate (FPR)')\n",
        "plt.ylabel('True Positive Rate (TPR)')\n",
        "plt.title('ROC Curve')\n",
        "plt.legend()\n",
        "plt.grid(True)\n",
        "plt.show()\n"
      ]
    },
    {
      "cell_type": "code",
      "source": [
        "# prompt: How can i plot the model with tensorflow?\n",
        "\n",
        "# Visualize the model\n",
        "tf.keras.utils.plot_model(model, show_shapes=True)\n"
      ],
      "metadata": {
        "id": "9viQ-8XfGpBe",
        "colab": {
          "base_uri": "https://localhost:8080/",
          "height": 644
        },
        "outputId": "dc8b989d-0d5c-47fc-823d-8ae2d8332d01"
      },
      "execution_count": 59,
      "outputs": [
        {
          "output_type": "execute_result",
          "data": {
            "image/png": "[encoded data removed]",
            "text/plain": [
              "<IPython.core.display.Image object>"
            ]
          },
          "metadata": {},
          "execution_count": 59
        }
      ]
    },
    {
      "cell_type": "code",
      "source": [],
      "metadata": {
        "id": "SuaHTEpAHF7F"
      },
      "execution_count": 59,
      "outputs": []
    }
  ],
  "metadata": {
    "kaggle": {
      "accelerator": "gpu",
      "dataSources": [
        {
          "databundleVersionId": 7516023,
          "sourceId": 61542,
          "sourceType": "competition"
        },
        {
          "datasetId": 4691097,
          "sourceId": 7972182,
          "sourceType": "datasetVersion"
        }
      ],
      "dockerImageVersionId": 30664,
      "isGpuEnabled": true,
      "isInternetEnabled": true,
      "language": "python",
      "sourceType": "notebook"
    },
    "kernelspec": {
      "display_name": "Python 3",
      "name": "python3"
    },
    "language_info": {
      "codemirror_mode": {
        "name": "ipython",
        "version": 3
      },
      "file_extension": ".py",
      "mimetype": "text/x-python",
      "name": "python",
      "nbconvert_exporter": "python",
      "pygments_lexer": "ipython3",
      "version": "3.12.3"
    },
    "colab": {
      "provenance": [],
      "collapsed_sections": [
        "_wlGvLP06vdP",
        "F6DToC7o6vdQ",
        "k6ekaWA26vdZ"
      ],
      "gpuType": "T4"
    },
    "accelerator": "GPU"
  },
  "nbformat": 4,
  "nbformat_minor": 0
}